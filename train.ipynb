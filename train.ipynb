{
 "cells": [
  {
   "cell_type": "code",
   "execution_count": 1,
   "metadata": {},
   "outputs": [],
   "source": [
    "import numpy as np\n",
    "import pandas as pd\n",
    "import missingno as mso\n",
    "from joblib import dump # for model persistance\n",
    "import sklearn.metrics as m\n",
    "import matplotlib.pyplot as plt\n",
    "from sklearn.pipeline import Pipeline\n",
    "from sklearn.impute import SimpleImputer\n",
    "from sklearn.compose import ColumnTransformer\n",
    "from sklearn.linear_model import LinearRegression\n",
    "from sklearn.model_selection import train_test_split\n",
    "from sklearn.preprocessing import StandardScaler, OneHotEncoder, OrdinalEncoder\n",
    "from sklearn.neighbors import LocalOutlierFactor\n",
    "# feature selection\n",
    "from sklearn.feature_selection import SelectKBest\n",
    "from sklearn.feature_selection import f_regression, mutual_info_regression"
   ]
  },
  {
   "cell_type": "code",
   "execution_count": 2,
   "metadata": {},
   "outputs": [],
   "source": [
    "pd.set_option('display.max_columns', None)\n",
    "\n",
    "url = 'https://raw.githubusercontent.com/digipodium/Datasets/main/regression/automobile.csv'\n",
    "df = pd.read_csv(url)\n",
    "df.head()\n",
    "\n",
    "df.replace('?', np.nan, inplace=True) \n",
    "\n",
    "# mso.matrix(df, figsize=(15,5))\n",
    "# plt.show()\n",
    "\n",
    "num_cols = ['normalized-losses','wheel-base','length','width',\n",
    "            'height','curb-weight','engine-size','compression-ratio',\n",
    "            'bore','stroke','horsepower','peak-rpm','city-mpg','highway-mpg']\n",
    "cat_cols = ['symboling', 'make','fuel-type','aspiration','num-of-doors','drive-wheels',\n",
    "            'body-style','engine-location','engine-type','num-of-cylinders','fuel-system']\n",
    "\n",
    "df.dropna(subset=['price'], inplace=True)\n",
    "df['price'] = df['price'].astype(int)\n",
    "\n",
    "X, y = df.drop('price', axis=1) , df['price']"
   ]
  },
  {
   "cell_type": "code",
   "execution_count": 3,
   "metadata": {},
   "outputs": [
    {
     "data": {
      "text/html": [
       "<style>#sk-container-id-1 {color: black;background-color: white;}#sk-container-id-1 pre{padding: 0;}#sk-container-id-1 div.sk-toggleable {background-color: white;}#sk-container-id-1 label.sk-toggleable__label {cursor: pointer;display: block;width: 100%;margin-bottom: 0;padding: 0.3em;box-sizing: border-box;text-align: center;}#sk-container-id-1 label.sk-toggleable__label-arrow:before {content: \"▸\";float: left;margin-right: 0.25em;color: #696969;}#sk-container-id-1 label.sk-toggleable__label-arrow:hover:before {color: black;}#sk-container-id-1 div.sk-estimator:hover label.sk-toggleable__label-arrow:before {color: black;}#sk-container-id-1 div.sk-toggleable__content {max-height: 0;max-width: 0;overflow: hidden;text-align: left;background-color: #f0f8ff;}#sk-container-id-1 div.sk-toggleable__content pre {margin: 0.2em;color: black;border-radius: 0.25em;background-color: #f0f8ff;}#sk-container-id-1 input.sk-toggleable__control:checked~div.sk-toggleable__content {max-height: 200px;max-width: 100%;overflow: auto;}#sk-container-id-1 input.sk-toggleable__control:checked~label.sk-toggleable__label-arrow:before {content: \"▾\";}#sk-container-id-1 div.sk-estimator input.sk-toggleable__control:checked~label.sk-toggleable__label {background-color: #d4ebff;}#sk-container-id-1 div.sk-label input.sk-toggleable__control:checked~label.sk-toggleable__label {background-color: #d4ebff;}#sk-container-id-1 input.sk-hidden--visually {border: 0;clip: rect(1px 1px 1px 1px);clip: rect(1px, 1px, 1px, 1px);height: 1px;margin: -1px;overflow: hidden;padding: 0;position: absolute;width: 1px;}#sk-container-id-1 div.sk-estimator {font-family: monospace;background-color: #f0f8ff;border: 1px dotted black;border-radius: 0.25em;box-sizing: border-box;margin-bottom: 0.5em;}#sk-container-id-1 div.sk-estimator:hover {background-color: #d4ebff;}#sk-container-id-1 div.sk-parallel-item::after {content: \"\";width: 100%;border-bottom: 1px solid gray;flex-grow: 1;}#sk-container-id-1 div.sk-label:hover label.sk-toggleable__label {background-color: #d4ebff;}#sk-container-id-1 div.sk-serial::before {content: \"\";position: absolute;border-left: 1px solid gray;box-sizing: border-box;top: 0;bottom: 0;left: 50%;z-index: 0;}#sk-container-id-1 div.sk-serial {display: flex;flex-direction: column;align-items: center;background-color: white;padding-right: 0.2em;padding-left: 0.2em;position: relative;}#sk-container-id-1 div.sk-item {position: relative;z-index: 1;}#sk-container-id-1 div.sk-parallel {display: flex;align-items: stretch;justify-content: center;background-color: white;position: relative;}#sk-container-id-1 div.sk-item::before, #sk-container-id-1 div.sk-parallel-item::before {content: \"\";position: absolute;border-left: 1px solid gray;box-sizing: border-box;top: 0;bottom: 0;left: 50%;z-index: -1;}#sk-container-id-1 div.sk-parallel-item {display: flex;flex-direction: column;z-index: 1;position: relative;background-color: white;}#sk-container-id-1 div.sk-parallel-item:first-child::after {align-self: flex-end;width: 50%;}#sk-container-id-1 div.sk-parallel-item:last-child::after {align-self: flex-start;width: 50%;}#sk-container-id-1 div.sk-parallel-item:only-child::after {width: 0;}#sk-container-id-1 div.sk-dashed-wrapped {border: 1px dashed gray;margin: 0 0.4em 0.5em 0.4em;box-sizing: border-box;padding-bottom: 0.4em;background-color: white;}#sk-container-id-1 div.sk-label label {font-family: monospace;font-weight: bold;display: inline-block;line-height: 1.2em;}#sk-container-id-1 div.sk-label-container {text-align: center;}#sk-container-id-1 div.sk-container {/* jupyter's `normalize.less` sets `[hidden] { display: none; }` but bootstrap.min.css set `[hidden] { display: none !important; }` so we also need the `!important` here to be able to override the default hidden behavior on the sphinx rendered scikit-learn.org. See: https://github.com/scikit-learn/scikit-learn/issues/21755 */display: inline-block !important;position: relative;}#sk-container-id-1 div.sk-text-repr-fallback {display: none;}</style><div id=\"sk-container-id-1\" class=\"sk-top-container\"><div class=\"sk-text-repr-fallback\"><pre>Pipeline(steps=[(&#x27;preprocessor&#x27;,\n",
       "                 ColumnTransformer(transformers=[(&#x27;numerical&#x27;,\n",
       "                                                  Pipeline(steps=[(&#x27;imputer&#x27;,\n",
       "                                                                   SimpleImputer()),\n",
       "                                                                  (&#x27;scaler&#x27;,\n",
       "                                                                   StandardScaler())]),\n",
       "                                                  [&#x27;normalized-losses&#x27;,\n",
       "                                                   &#x27;wheel-base&#x27;, &#x27;length&#x27;,\n",
       "                                                   &#x27;width&#x27;, &#x27;height&#x27;,\n",
       "                                                   &#x27;curb-weight&#x27;, &#x27;engine-size&#x27;,\n",
       "                                                   &#x27;compression-ratio&#x27;, &#x27;bore&#x27;,\n",
       "                                                   &#x27;stroke&#x27;, &#x27;horsepower&#x27;,\n",
       "                                                   &#x27;peak-rpm&#x27;, &#x27;city-mpg&#x27;,\n",
       "                                                   &#x27;highway-mpg&#x27;]),\n",
       "                                                 (&#x27;categorical&#x27;,\n",
       "                                                  Pipeline(...\n",
       "                                                                   SimpleImputer(strategy=&#x27;most_frequent&#x27;)),\n",
       "                                                                  (&#x27;hot_encode&#x27;,\n",
       "                                                                   OneHotEncoder(drop=&#x27;first&#x27;,\n",
       "                                                                                 handle_unknown=&#x27;ignore&#x27;))]),\n",
       "                                                  [&#x27;symboling&#x27;, &#x27;make&#x27;,\n",
       "                                                   &#x27;fuel-type&#x27;, &#x27;aspiration&#x27;,\n",
       "                                                   &#x27;num-of-doors&#x27;,\n",
       "                                                   &#x27;drive-wheels&#x27;, &#x27;body-style&#x27;,\n",
       "                                                   &#x27;engine-location&#x27;,\n",
       "                                                   &#x27;engine-type&#x27;,\n",
       "                                                   &#x27;num-of-cylinders&#x27;,\n",
       "                                                   &#x27;fuel-system&#x27;])])),\n",
       "                (&#x27;selector&#x27;,\n",
       "                 SelectKBest(k=25,\n",
       "                             score_func=&lt;function f_regression at 0x000002D50A29C160&gt;)),\n",
       "                (&#x27;regressor&#x27;, LinearRegression())])</pre><b>In a Jupyter environment, please rerun this cell to show the HTML representation or trust the notebook. <br />On GitHub, the HTML representation is unable to render, please try loading this page with nbviewer.org.</b></div><div class=\"sk-container\" hidden><div class=\"sk-item sk-dashed-wrapped\"><div class=\"sk-label-container\"><div class=\"sk-label sk-toggleable\"><input class=\"sk-toggleable__control sk-hidden--visually\" id=\"sk-estimator-id-1\" type=\"checkbox\" ><label for=\"sk-estimator-id-1\" class=\"sk-toggleable__label sk-toggleable__label-arrow\">Pipeline</label><div class=\"sk-toggleable__content\"><pre>Pipeline(steps=[(&#x27;preprocessor&#x27;,\n",
       "                 ColumnTransformer(transformers=[(&#x27;numerical&#x27;,\n",
       "                                                  Pipeline(steps=[(&#x27;imputer&#x27;,\n",
       "                                                                   SimpleImputer()),\n",
       "                                                                  (&#x27;scaler&#x27;,\n",
       "                                                                   StandardScaler())]),\n",
       "                                                  [&#x27;normalized-losses&#x27;,\n",
       "                                                   &#x27;wheel-base&#x27;, &#x27;length&#x27;,\n",
       "                                                   &#x27;width&#x27;, &#x27;height&#x27;,\n",
       "                                                   &#x27;curb-weight&#x27;, &#x27;engine-size&#x27;,\n",
       "                                                   &#x27;compression-ratio&#x27;, &#x27;bore&#x27;,\n",
       "                                                   &#x27;stroke&#x27;, &#x27;horsepower&#x27;,\n",
       "                                                   &#x27;peak-rpm&#x27;, &#x27;city-mpg&#x27;,\n",
       "                                                   &#x27;highway-mpg&#x27;]),\n",
       "                                                 (&#x27;categorical&#x27;,\n",
       "                                                  Pipeline(...\n",
       "                                                                   SimpleImputer(strategy=&#x27;most_frequent&#x27;)),\n",
       "                                                                  (&#x27;hot_encode&#x27;,\n",
       "                                                                   OneHotEncoder(drop=&#x27;first&#x27;,\n",
       "                                                                                 handle_unknown=&#x27;ignore&#x27;))]),\n",
       "                                                  [&#x27;symboling&#x27;, &#x27;make&#x27;,\n",
       "                                                   &#x27;fuel-type&#x27;, &#x27;aspiration&#x27;,\n",
       "                                                   &#x27;num-of-doors&#x27;,\n",
       "                                                   &#x27;drive-wheels&#x27;, &#x27;body-style&#x27;,\n",
       "                                                   &#x27;engine-location&#x27;,\n",
       "                                                   &#x27;engine-type&#x27;,\n",
       "                                                   &#x27;num-of-cylinders&#x27;,\n",
       "                                                   &#x27;fuel-system&#x27;])])),\n",
       "                (&#x27;selector&#x27;,\n",
       "                 SelectKBest(k=25,\n",
       "                             score_func=&lt;function f_regression at 0x000002D50A29C160&gt;)),\n",
       "                (&#x27;regressor&#x27;, LinearRegression())])</pre></div></div></div><div class=\"sk-serial\"><div class=\"sk-item sk-dashed-wrapped\"><div class=\"sk-label-container\"><div class=\"sk-label sk-toggleable\"><input class=\"sk-toggleable__control sk-hidden--visually\" id=\"sk-estimator-id-2\" type=\"checkbox\" ><label for=\"sk-estimator-id-2\" class=\"sk-toggleable__label sk-toggleable__label-arrow\">preprocessor: ColumnTransformer</label><div class=\"sk-toggleable__content\"><pre>ColumnTransformer(transformers=[(&#x27;numerical&#x27;,\n",
       "                                 Pipeline(steps=[(&#x27;imputer&#x27;, SimpleImputer()),\n",
       "                                                 (&#x27;scaler&#x27;, StandardScaler())]),\n",
       "                                 [&#x27;normalized-losses&#x27;, &#x27;wheel-base&#x27;, &#x27;length&#x27;,\n",
       "                                  &#x27;width&#x27;, &#x27;height&#x27;, &#x27;curb-weight&#x27;,\n",
       "                                  &#x27;engine-size&#x27;, &#x27;compression-ratio&#x27;, &#x27;bore&#x27;,\n",
       "                                  &#x27;stroke&#x27;, &#x27;horsepower&#x27;, &#x27;peak-rpm&#x27;,\n",
       "                                  &#x27;city-mpg&#x27;, &#x27;highway-mpg&#x27;]),\n",
       "                                (&#x27;categorical&#x27;,\n",
       "                                 Pipeline(steps=[(&#x27;imputer&#x27;,\n",
       "                                                  SimpleImputer(strategy=&#x27;most_frequent&#x27;)),\n",
       "                                                 (&#x27;hot_encode&#x27;,\n",
       "                                                  OneHotEncoder(drop=&#x27;first&#x27;,\n",
       "                                                                handle_unknown=&#x27;ignore&#x27;))]),\n",
       "                                 [&#x27;symboling&#x27;, &#x27;make&#x27;, &#x27;fuel-type&#x27;,\n",
       "                                  &#x27;aspiration&#x27;, &#x27;num-of-doors&#x27;, &#x27;drive-wheels&#x27;,\n",
       "                                  &#x27;body-style&#x27;, &#x27;engine-location&#x27;,\n",
       "                                  &#x27;engine-type&#x27;, &#x27;num-of-cylinders&#x27;,\n",
       "                                  &#x27;fuel-system&#x27;])])</pre></div></div></div><div class=\"sk-parallel\"><div class=\"sk-parallel-item\"><div class=\"sk-item\"><div class=\"sk-label-container\"><div class=\"sk-label sk-toggleable\"><input class=\"sk-toggleable__control sk-hidden--visually\" id=\"sk-estimator-id-3\" type=\"checkbox\" ><label for=\"sk-estimator-id-3\" class=\"sk-toggleable__label sk-toggleable__label-arrow\">numerical</label><div class=\"sk-toggleable__content\"><pre>[&#x27;normalized-losses&#x27;, &#x27;wheel-base&#x27;, &#x27;length&#x27;, &#x27;width&#x27;, &#x27;height&#x27;, &#x27;curb-weight&#x27;, &#x27;engine-size&#x27;, &#x27;compression-ratio&#x27;, &#x27;bore&#x27;, &#x27;stroke&#x27;, &#x27;horsepower&#x27;, &#x27;peak-rpm&#x27;, &#x27;city-mpg&#x27;, &#x27;highway-mpg&#x27;]</pre></div></div></div><div class=\"sk-serial\"><div class=\"sk-item\"><div class=\"sk-serial\"><div class=\"sk-item\"><div class=\"sk-estimator sk-toggleable\"><input class=\"sk-toggleable__control sk-hidden--visually\" id=\"sk-estimator-id-4\" type=\"checkbox\" ><label for=\"sk-estimator-id-4\" class=\"sk-toggleable__label sk-toggleable__label-arrow\">SimpleImputer</label><div class=\"sk-toggleable__content\"><pre>SimpleImputer()</pre></div></div></div><div class=\"sk-item\"><div class=\"sk-estimator sk-toggleable\"><input class=\"sk-toggleable__control sk-hidden--visually\" id=\"sk-estimator-id-5\" type=\"checkbox\" ><label for=\"sk-estimator-id-5\" class=\"sk-toggleable__label sk-toggleable__label-arrow\">StandardScaler</label><div class=\"sk-toggleable__content\"><pre>StandardScaler()</pre></div></div></div></div></div></div></div></div><div class=\"sk-parallel-item\"><div class=\"sk-item\"><div class=\"sk-label-container\"><div class=\"sk-label sk-toggleable\"><input class=\"sk-toggleable__control sk-hidden--visually\" id=\"sk-estimator-id-6\" type=\"checkbox\" ><label for=\"sk-estimator-id-6\" class=\"sk-toggleable__label sk-toggleable__label-arrow\">categorical</label><div class=\"sk-toggleable__content\"><pre>[&#x27;symboling&#x27;, &#x27;make&#x27;, &#x27;fuel-type&#x27;, &#x27;aspiration&#x27;, &#x27;num-of-doors&#x27;, &#x27;drive-wheels&#x27;, &#x27;body-style&#x27;, &#x27;engine-location&#x27;, &#x27;engine-type&#x27;, &#x27;num-of-cylinders&#x27;, &#x27;fuel-system&#x27;]</pre></div></div></div><div class=\"sk-serial\"><div class=\"sk-item\"><div class=\"sk-serial\"><div class=\"sk-item\"><div class=\"sk-estimator sk-toggleable\"><input class=\"sk-toggleable__control sk-hidden--visually\" id=\"sk-estimator-id-7\" type=\"checkbox\" ><label for=\"sk-estimator-id-7\" class=\"sk-toggleable__label sk-toggleable__label-arrow\">SimpleImputer</label><div class=\"sk-toggleable__content\"><pre>SimpleImputer(strategy=&#x27;most_frequent&#x27;)</pre></div></div></div><div class=\"sk-item\"><div class=\"sk-estimator sk-toggleable\"><input class=\"sk-toggleable__control sk-hidden--visually\" id=\"sk-estimator-id-8\" type=\"checkbox\" ><label for=\"sk-estimator-id-8\" class=\"sk-toggleable__label sk-toggleable__label-arrow\">OneHotEncoder</label><div class=\"sk-toggleable__content\"><pre>OneHotEncoder(drop=&#x27;first&#x27;, handle_unknown=&#x27;ignore&#x27;)</pre></div></div></div></div></div></div></div></div></div></div><div class=\"sk-item\"><div class=\"sk-estimator sk-toggleable\"><input class=\"sk-toggleable__control sk-hidden--visually\" id=\"sk-estimator-id-9\" type=\"checkbox\" ><label for=\"sk-estimator-id-9\" class=\"sk-toggleable__label sk-toggleable__label-arrow\">SelectKBest</label><div class=\"sk-toggleable__content\"><pre>SelectKBest(k=25, score_func=&lt;function f_regression at 0x000002D50A29C160&gt;)</pre></div></div></div><div class=\"sk-item\"><div class=\"sk-estimator sk-toggleable\"><input class=\"sk-toggleable__control sk-hidden--visually\" id=\"sk-estimator-id-10\" type=\"checkbox\" ><label for=\"sk-estimator-id-10\" class=\"sk-toggleable__label sk-toggleable__label-arrow\">LinearRegression</label><div class=\"sk-toggleable__content\"><pre>LinearRegression()</pre></div></div></div></div></div></div></div>"
      ],
      "text/plain": [
       "Pipeline(steps=[('preprocessor',\n",
       "                 ColumnTransformer(transformers=[('numerical',\n",
       "                                                  Pipeline(steps=[('imputer',\n",
       "                                                                   SimpleImputer()),\n",
       "                                                                  ('scaler',\n",
       "                                                                   StandardScaler())]),\n",
       "                                                  ['normalized-losses',\n",
       "                                                   'wheel-base', 'length',\n",
       "                                                   'width', 'height',\n",
       "                                                   'curb-weight', 'engine-size',\n",
       "                                                   'compression-ratio', 'bore',\n",
       "                                                   'stroke', 'horsepower',\n",
       "                                                   'peak-rpm', 'city-mpg',\n",
       "                                                   'highway-mpg']),\n",
       "                                                 ('categorical',\n",
       "                                                  Pipeline(...\n",
       "                                                                   SimpleImputer(strategy='most_frequent')),\n",
       "                                                                  ('hot_encode',\n",
       "                                                                   OneHotEncoder(drop='first',\n",
       "                                                                                 handle_unknown='ignore'))]),\n",
       "                                                  ['symboling', 'make',\n",
       "                                                   'fuel-type', 'aspiration',\n",
       "                                                   'num-of-doors',\n",
       "                                                   'drive-wheels', 'body-style',\n",
       "                                                   'engine-location',\n",
       "                                                   'engine-type',\n",
       "                                                   'num-of-cylinders',\n",
       "                                                   'fuel-system'])])),\n",
       "                ('selector',\n",
       "                 SelectKBest(k=25,\n",
       "                             score_func=<function f_regression at 0x000002D50A29C160>)),\n",
       "                ('regressor', LinearRegression())])"
      ]
     },
     "execution_count": 3,
     "metadata": {},
     "output_type": "execute_result"
    }
   ],
   "source": [
    "num_transformer = Pipeline(steps=[\n",
    "    ('imputer', SimpleImputer()),\n",
    "    ('scaler', StandardScaler())\n",
    "])\n",
    "cat_transformer = Pipeline(steps=[\n",
    "    ('imputer', SimpleImputer(strategy='most_frequent')),\n",
    "    ('hot_encode', OneHotEncoder(drop='first', handle_unknown='ignore'))\n",
    "])\n",
    "preprocessor = ColumnTransformer(transformers=[\n",
    "    ('numerical', num_transformer, num_cols),\n",
    "    ('categorical', cat_transformer, cat_cols),\n",
    "])\n",
    "\n",
    "model = Pipeline(steps = [\n",
    "    ('preprocessor', preprocessor),\n",
    "    ('selector', SelectKBest(f_regression, k=25)),\n",
    "    ('regressor', LinearRegression())\n",
    "])\n",
    "\n",
    "model"
   ]
  },
  {
   "cell_type": "code",
   "execution_count": 4,
   "metadata": {},
   "outputs": [],
   "source": [
    "# remove outliers\n",
    "lof = LocalOutlierFactor(n_neighbors=5, contamination=.1)\n",
    "X_p = preprocessor.fit_transform(X)\n",
    "yhat = lof.fit_predict(X_p)\n",
    "X = X[yhat==1]\n",
    "y = y[yhat==1]"
   ]
  },
  {
   "cell_type": "code",
   "execution_count": 5,
   "metadata": {},
   "outputs": [
    {
     "name": "stdout",
     "output_type": "stream",
     "text": [
      "Xtrain: (144, 26), Xtest: (37, 26)\n",
      "Score :0.937\n",
      "MAE: 1371.178\n",
      "MSE: 3658807.825\n"
     ]
    },
    {
     "name": "stderr",
     "output_type": "stream",
     "text": [
      "c:\\Users\\ZAID\\miniconda3\\lib\\site-packages\\sklearn\\preprocessing\\_encoders.py:202: UserWarning: Found unknown categories in columns [1] during transform. These unknown categories will be encoded as all zeros\n",
      "  warnings.warn(\n"
     ]
    },
    {
     "data": {
      "text/plain": [
       "['automobile_price_prediction.jb']"
      ]
     },
     "execution_count": 5,
     "metadata": {},
     "output_type": "execute_result"
    },
    {
     "data": {
      "image/png": "[encoded data removed]",
      "text/plain": [
       "<Figure size 640x480 with 1 Axes>"
      ]
     },
     "metadata": {},
     "output_type": "display_data"
    }
   ],
   "source": [
    "Xtrain, Xtest, ytrain, ytest  = train_test_split(X, y, test_size=.2, random_state=42)\n",
    "print(f'Xtrain: {Xtrain.shape}, Xtest: {Xtest.shape}')\n",
    "model.fit(Xtrain, ytrain)\n",
    "\n",
    "ypred = model.predict(Xtest)\n",
    "score = m.r2_score(ytest, ypred)\n",
    "mae = m.mean_absolute_error(ytest, ypred)\n",
    "mse = m.mean_squared_error(ytest, ypred)\n",
    "print(f'Score :{score:.3f}')\n",
    "print(f'MAE: {mae:.3f}')\n",
    "print(f'MSE: {mse:.3f}')\n",
    "\n",
    "\n",
    "evaldf = pd.DataFrame([ytest.values, ypred], index=['orig','pred']).T\n",
    "ax = evaldf.plot(kind='kde', y='orig')\n",
    "evaldf.plot(kind='kde', y='pred', linewidth=10, alpha=.3, style='g', ax=ax)\n",
    "# plt.show()\n",
    "\n",
    "dump(model,'automobile_price_prediction.jb')"
   ]
  },
  {
   "cell_type": "code",
   "execution_count": 6,
   "metadata": {},
   "outputs": [
    {
     "name": "stderr",
     "output_type": "stream",
     "text": [
      "c:\\Users\\ZAID\\miniconda3\\lib\\site-packages\\sklearn\\preprocessing\\_encoders.py:202: UserWarning: Found unknown categories in columns [1, 9, 10] during transform. These unknown categories will be encoded as all zeros\n",
      "  warnings.warn(\n"
     ]
    },
    {
     "data": {
      "text/plain": [
       "array([10041.52349453, 10041.52349453, 16509.12292684, 11346.36323896,\n",
       "       17236.3278893 , 14812.63099682, 20645.84056651, 20886.98933956,\n",
       "       22903.78111472, 21012.71233052, 21012.71233052, 23558.39557463,\n",
       "       23678.96996116, 25922.43136017, 31156.4020449 , 32252.84505263,\n",
       "       35914.29892616,  2453.43041354,  6341.17405818,  6987.74719523,\n",
       "        6256.32759269,  5990.85669489,  8018.85077465,  6190.35249805,\n",
       "        6996.79015883,  6996.79015883,  8915.17115993, 10155.01454763,\n",
       "       14174.82961021,  5570.92058871,  5691.41978562,  5222.11490394,\n",
       "        6411.5704337 ,  6446.64661887,  7040.45505767,  7204.10756167,\n",
       "        8333.3960504 ,  8449.58591378,  8911.89730811,  6449.07452613,\n",
       "       10226.15831368, 11544.47044563,  5942.426469  ,  9550.4162027 ,\n",
       "       33900.        , 33900.        , 47224.26911871,  5486.18854238,\n",
       "        6126.58156189,  6137.54286976,  6662.98435874,  6511.47446218,\n",
       "        9806.12126886,  9806.12126886,  9817.08257673, 13242.15307557,\n",
       "       10014.72863633, 10760.07070989, 10014.72863633, 10760.07070989,\n",
       "        9552.5080253 , 10034.74672732, 14096.00742921, 12266.4499342 ,\n",
       "       29927.40777401, 30442.58924372, 28373.77987703, 32038.96120111,\n",
       "       36827.89415332, 34149.97800031, 41334.87269592, 39163.372409  ,\n",
       "       19010.10934749,  6940.04773188,  6731.57563498,  6863.11132937,\n",
       "        7653.01024571, 10408.50216101,  9071.33418064, 14288.04784659,\n",
       "       14448.47262415, 14459.43393202, 10003.29880294, 10090.98926587,\n",
       "       11331.69773701, 11264.02536507,  6217.78110919,  6674.71179974,\n",
       "        6281.35669481,  6325.20192627,  6309.80931604,  6353.70132673,\n",
       "        5751.8122287 ,  6397.54655819,  6338.3087165 ,  5357.54597049,\n",
       "        9776.94502183, 10486.92317339, 16239.25988107, 16559.21290504,\n",
       "       16307.0141666 , 17989.01080296, 20856.64881295, 18847.67223047,\n",
       "       15211.72898703, 16415.74488348, 15935.14726219, 16482.62447178,\n",
       "       15187.53353011, 16536.31927001, 15910.95180527, 16603.19885831,\n",
       "       15332.30337356, 16536.31927001, 18690.48180194,  6348.40257877,\n",
       "        7701.3840456 ,  6190.35249805,  6580.61239245,  7339.03349136,\n",
       "       10122.52030675, 15240.22534511, 25093.48597639, 34105.99970229,\n",
       "       34105.99970229, 35450.00029771, 11727.93523457, 11001.18866135,\n",
       "       10818.51272686, 11657.83431124, 14175.35763249, 11795.94679035,\n",
       "       14577.14993432, 15420.85604184,  3981.43263777,  4568.13342198,\n",
       "        6555.70632481,  8145.7750631 ,  7890.76154178,  8600.824156  ,\n",
       "        9141.74411075, 11469.40354143,  7934.74947403,  8677.62203561,\n",
       "        9492.94562745, 11167.36905541,  5696.03749199,  5727.97362678,\n",
       "        5673.16708745,  6398.51404877,  7533.42448039,  9331.07897044,\n",
       "        7238.42393698,  6541.59935486,  6059.33768851,  6273.19150199,\n",
       "        8150.93861525,  6304.92376247,  7102.59237695,  7617.82439002,\n",
       "        6936.34563892,  9852.52249446,  9171.04374335, 11902.0618265 ,\n",
       "       11893.29278021, 12415.50988385, 12206.78618518, 12772.84852028,\n",
       "       14103.23669706, 11724.96022619,  9938.12046792, 10982.83869241,\n",
       "       11741.04659858, 11079.29820163, 18132.73127083, 18220.34775753,\n",
       "       17724.76945975, 17374.06038858,  7989.90129724,  9409.70497333,\n",
       "        7996.47808196,  9416.28175805,  9554.39423716,  8921.84182895,\n",
       "       10518.21593257,  8344.25930434,  7053.87917585, 15595.0344798 ,\n",
       "       10518.00299046, 11396.89223492, 14671.69605417, 14939.1519661 ,\n",
       "       14722.19204659, 14956.76403493, 17993.22464325, 18238.75793945,\n",
       "       16991.17510627, 20171.47102302, 18147.95809567, 16916.73888959,\n",
       "       16967.00093399])"
      ]
     },
     "execution_count": 6,
     "metadata": {},
     "output_type": "execute_result"
    }
   ],
   "source": [
    "model.predict(df)"
   ]
  },
  {
   "cell_type": "code",
   "execution_count": 7,
   "metadata": {},
   "outputs": [
    {
     "data": {
      "text/plain": [
       "(181, 26)"
      ]
     },
     "execution_count": 7,
     "metadata": {},
     "output_type": "execute_result"
    }
   ],
   "source": [
    "X.shape"
   ]
  },
  {
   "cell_type": "code",
   "execution_count": 11,
   "metadata": {},
   "outputs": [
    {
     "name": "stdout",
     "output_type": "stream",
     "text": [
      "Unnamed: 0               3\n",
      "symboling                2\n",
      "normalized-losses      164\n",
      "make                  audi\n",
      "fuel-type              gas\n",
      "aspiration             std\n",
      "num-of-doors          four\n",
      "body-style           sedan\n",
      "drive-wheels           fwd\n",
      "engine-location      front\n",
      "wheel-base            99.8\n",
      "length               176.6\n",
      "width                 66.2\n",
      "height                54.3\n",
      "curb-weight           2337\n",
      "engine-type            ohc\n",
      "num-of-cylinders      four\n",
      "engine-size            109\n",
      "fuel-system           mpfi\n",
      "bore                  3.19\n",
      "stroke                3.40\n",
      "compression-ratio     10.0\n",
      "horsepower             102\n",
      "peak-rpm              5500\n",
      "city-mpg                24\n",
      "highway-mpg             30\n",
      "Name: 3, dtype: object\n",
      "26\n"
     ]
    }
   ],
   "source": [
    "print(X.iloc[0])\n",
    "print(X.shape[1])"
   ]
  },
  {
   "cell_type": "code",
   "execution_count": 12,
   "metadata": {},
   "outputs": [
    {
     "name": "stdout",
     "output_type": "stream",
     "text": [
      "[3 2 '164' 'audi' 'gas' 'std' 'four' 'sedan' 'fwd' 'front' 99.8 176.6 66.2\n",
      " 54.3 2337 'ohc' 'four' 109 'mpfi' '3.19' '3.40' 10.0 '102' '5500' 24 30]\n"
     ]
    }
   ],
   "source": [
    "print(X.iloc[0].values)"
   ]
  },
  {
   "cell_type": "code",
   "execution_count": 13,
   "metadata": {},
   "outputs": [
    {
     "data": {
      "text/plain": [
       "array([ 3,  1,  2,  0, -1, -2], dtype=int64)"
      ]
     },
     "execution_count": 13,
     "metadata": {},
     "output_type": "execute_result"
    }
   ],
   "source": [
    "df['symboling'].unique()"
   ]
  },
  {
   "cell_type": "code",
   "execution_count": null,
   "metadata": {},
   "outputs": [],
   "source": []
  }
 ],
 "metadata": {
  "kernelspec": {
   "display_name": "base",
   "language": "python",
   "name": "python3"
  },
  "language_info": {
   "codemirror_mode": {
    "name": "ipython",
    "version": 3
   },
   "file_extension": ".py",
   "mimetype": "text/x-python",
   "name": "python",
   "nbconvert_exporter": "python",
   "pygments_lexer": "ipython3",
   "version": "3.10.9"
  },
  "orig_nbformat": 4,
  "vscode": {
   "interpreter": {
    "hash": "8befaed7f752a58a740e5f08c55a1efd8fcda412d7a2f1c4d828330769dea609"
   }
  }
 },
 "nbformat": 4,
 "nbformat_minor": 2
}
