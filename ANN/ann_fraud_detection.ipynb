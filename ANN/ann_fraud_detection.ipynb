{
 "cells": [
  {
   "attachments": {},
   "cell_type": "markdown",
   "metadata": {},
   "source": [
    "load the libraries"
   ]
  },
  {
   "cell_type": "code",
   "execution_count": 1,
   "metadata": {},
   "outputs": [],
   "source": [
    "import tensorflow as tf\n",
    "import pandas as pd                                         # data processing, CSV file I/O (e.g. pd.read_csv)\n",
    "import numpy as np                                          # linear algebra\n",
    "from tensorflow.keras.models import Sequential              # model type\n",
    "from tensorflow.keras.layers import Dense, Dropout          # dense layer, dropout layer\n",
    "from tensorflow.keras.activations import relu, sigmoid      # activation functions\n",
    "from tensorflow.keras.optimizers import SGD                 # stochastic gradient descent\n",
    "from tensorflow.keras.losses import binary_crossentropy     # cost function"
   ]
  },
  {
   "cell_type": "code",
   "execution_count": 2,
   "metadata": {},
   "outputs": [
    {
     "data": {
      "text/html": [
       "<div>\n",
       "<style scoped>\n",
       "    .dataframe tbody tr th:only-of-type {\n",
       "        vertical-align: middle;\n",
       "    }\n",
       "\n",
       "    .dataframe tbody tr th {\n",
       "        vertical-align: top;\n",
       "    }\n",
       "\n",
       "    .dataframe thead th {\n",
       "        text-align: right;\n",
       "    }\n",
       "</style>\n",
       "<table border=\"1\" class=\"dataframe\">\n",
       "  <thead>\n",
       "    <tr style=\"text-align: right;\">\n",
       "      <th></th>\n",
       "      <th>step</th>\n",
       "      <th>type</th>\n",
       "      <th>amount</th>\n",
       "      <th>nameOrig</th>\n",
       "      <th>oldbalanceOrg</th>\n",
       "      <th>newbalanceOrig</th>\n",
       "      <th>nameDest</th>\n",
       "      <th>oldbalanceDest</th>\n",
       "      <th>newbalanceDest</th>\n",
       "      <th>isFraud</th>\n",
       "      <th>isFlaggedFraud</th>\n",
       "    </tr>\n",
       "  </thead>\n",
       "  <tbody>\n",
       "    <tr>\n",
       "      <th>0</th>\n",
       "      <td>1</td>\n",
       "      <td>PAYMENT</td>\n",
       "      <td>9839.64</td>\n",
       "      <td>C1231006815</td>\n",
       "      <td>170136.00</td>\n",
       "      <td>160296.36</td>\n",
       "      <td>M1979787155</td>\n",
       "      <td>0.0</td>\n",
       "      <td>0.0</td>\n",
       "      <td>0</td>\n",
       "      <td>0</td>\n",
       "    </tr>\n",
       "    <tr>\n",
       "      <th>1</th>\n",
       "      <td>1</td>\n",
       "      <td>PAYMENT</td>\n",
       "      <td>1864.28</td>\n",
       "      <td>C1666544295</td>\n",
       "      <td>21249.00</td>\n",
       "      <td>19384.72</td>\n",
       "      <td>M2044282225</td>\n",
       "      <td>0.0</td>\n",
       "      <td>0.0</td>\n",
       "      <td>0</td>\n",
       "      <td>0</td>\n",
       "    </tr>\n",
       "    <tr>\n",
       "      <th>2</th>\n",
       "      <td>1</td>\n",
       "      <td>TRANSFER</td>\n",
       "      <td>181.00</td>\n",
       "      <td>C1305486145</td>\n",
       "      <td>181.00</td>\n",
       "      <td>0.00</td>\n",
       "      <td>C553264065</td>\n",
       "      <td>0.0</td>\n",
       "      <td>0.0</td>\n",
       "      <td>1</td>\n",
       "      <td>0</td>\n",
       "    </tr>\n",
       "    <tr>\n",
       "      <th>3</th>\n",
       "      <td>1</td>\n",
       "      <td>CASH_OUT</td>\n",
       "      <td>181.00</td>\n",
       "      <td>C840083671</td>\n",
       "      <td>181.00</td>\n",
       "      <td>0.00</td>\n",
       "      <td>C38997010</td>\n",
       "      <td>21182.0</td>\n",
       "      <td>0.0</td>\n",
       "      <td>1</td>\n",
       "      <td>0</td>\n",
       "    </tr>\n",
       "    <tr>\n",
       "      <th>4</th>\n",
       "      <td>1</td>\n",
       "      <td>PAYMENT</td>\n",
       "      <td>11668.14</td>\n",
       "      <td>C2048537720</td>\n",
       "      <td>41554.00</td>\n",
       "      <td>29885.86</td>\n",
       "      <td>M1230701703</td>\n",
       "      <td>0.0</td>\n",
       "      <td>0.0</td>\n",
       "      <td>0</td>\n",
       "      <td>0</td>\n",
       "    </tr>\n",
       "    <tr>\n",
       "      <th>...</th>\n",
       "      <td>...</td>\n",
       "      <td>...</td>\n",
       "      <td>...</td>\n",
       "      <td>...</td>\n",
       "      <td>...</td>\n",
       "      <td>...</td>\n",
       "      <td>...</td>\n",
       "      <td>...</td>\n",
       "      <td>...</td>\n",
       "      <td>...</td>\n",
       "      <td>...</td>\n",
       "    </tr>\n",
       "    <tr>\n",
       "      <th>999995</th>\n",
       "      <td>45</td>\n",
       "      <td>PAYMENT</td>\n",
       "      <td>10913.42</td>\n",
       "      <td>C1384914558</td>\n",
       "      <td>576108.80</td>\n",
       "      <td>565195.38</td>\n",
       "      <td>M166797080</td>\n",
       "      <td>0.0</td>\n",
       "      <td>0.0</td>\n",
       "      <td>0</td>\n",
       "      <td>0</td>\n",
       "    </tr>\n",
       "    <tr>\n",
       "      <th>999996</th>\n",
       "      <td>45</td>\n",
       "      <td>PAYMENT</td>\n",
       "      <td>2014.46</td>\n",
       "      <td>C1207593845</td>\n",
       "      <td>565195.38</td>\n",
       "      <td>563180.92</td>\n",
       "      <td>M1027899613</td>\n",
       "      <td>0.0</td>\n",
       "      <td>0.0</td>\n",
       "      <td>0</td>\n",
       "      <td>0</td>\n",
       "    </tr>\n",
       "    <tr>\n",
       "      <th>999997</th>\n",
       "      <td>45</td>\n",
       "      <td>PAYMENT</td>\n",
       "      <td>18839.45</td>\n",
       "      <td>C260638437</td>\n",
       "      <td>563180.92</td>\n",
       "      <td>544341.47</td>\n",
       "      <td>M243388883</td>\n",
       "      <td>0.0</td>\n",
       "      <td>0.0</td>\n",
       "      <td>0</td>\n",
       "      <td>0</td>\n",
       "    </tr>\n",
       "    <tr>\n",
       "      <th>999998</th>\n",
       "      <td>45</td>\n",
       "      <td>PAYMENT</td>\n",
       "      <td>17890.19</td>\n",
       "      <td>C439661237</td>\n",
       "      <td>544341.47</td>\n",
       "      <td>526451.29</td>\n",
       "      <td>M66034502</td>\n",
       "      <td>0.0</td>\n",
       "      <td>0.0</td>\n",
       "      <td>0</td>\n",
       "      <td>0</td>\n",
       "    </tr>\n",
       "    <tr>\n",
       "      <th>999999</th>\n",
       "      <td>45</td>\n",
       "      <td>PAYMENT</td>\n",
       "      <td>25411.16</td>\n",
       "      <td>C1142299632</td>\n",
       "      <td>526451.29</td>\n",
       "      <td>501040.13</td>\n",
       "      <td>M1142506984</td>\n",
       "      <td>0.0</td>\n",
       "      <td>0.0</td>\n",
       "      <td>0</td>\n",
       "      <td>0</td>\n",
       "    </tr>\n",
       "  </tbody>\n",
       "</table>\n",
       "<p>1000000 rows × 11 columns</p>\n",
       "</div>"
      ],
      "text/plain": [
       "        step      type    amount     nameOrig  oldbalanceOrg  newbalanceOrig  \\\n",
       "0          1   PAYMENT   9839.64  C1231006815      170136.00       160296.36   \n",
       "1          1   PAYMENT   1864.28  C1666544295       21249.00        19384.72   \n",
       "2          1  TRANSFER    181.00  C1305486145         181.00            0.00   \n",
       "3          1  CASH_OUT    181.00   C840083671         181.00            0.00   \n",
       "4          1   PAYMENT  11668.14  C2048537720       41554.00        29885.86   \n",
       "...      ...       ...       ...          ...            ...             ...   \n",
       "999995    45   PAYMENT  10913.42  C1384914558      576108.80       565195.38   \n",
       "999996    45   PAYMENT   2014.46  C1207593845      565195.38       563180.92   \n",
       "999997    45   PAYMENT  18839.45   C260638437      563180.92       544341.47   \n",
       "999998    45   PAYMENT  17890.19   C439661237      544341.47       526451.29   \n",
       "999999    45   PAYMENT  25411.16  C1142299632      526451.29       501040.13   \n",
       "\n",
       "           nameDest  oldbalanceDest  newbalanceDest  isFraud  isFlaggedFraud  \n",
       "0       M1979787155             0.0             0.0        0               0  \n",
       "1       M2044282225             0.0             0.0        0               0  \n",
       "2        C553264065             0.0             0.0        1               0  \n",
       "3         C38997010         21182.0             0.0        1               0  \n",
       "4       M1230701703             0.0             0.0        0               0  \n",
       "...             ...             ...             ...      ...             ...  \n",
       "999995   M166797080             0.0             0.0        0               0  \n",
       "999996  M1027899613             0.0             0.0        0               0  \n",
       "999997   M243388883             0.0             0.0        0               0  \n",
       "999998    M66034502             0.0             0.0        0               0  \n",
       "999999  M1142506984             0.0             0.0        0               0  \n",
       "\n",
       "[1000000 rows x 11 columns]"
      ]
     },
     "execution_count": 2,
     "metadata": {},
     "output_type": "execute_result"
    }
   ],
   "source": [
    "df = pd.read_csv('PS_20174392719_1491204439457_log.csv', nrows=1000000)\n",
    "df"
   ]
  },
  {
   "cell_type": "code",
   "execution_count": 3,
   "metadata": {},
   "outputs": [
    {
     "data": {
      "text/plain": [
       "step              0\n",
       "type              0\n",
       "amount            0\n",
       "nameOrig          0\n",
       "oldbalanceOrg     0\n",
       "newbalanceOrig    0\n",
       "nameDest          0\n",
       "oldbalanceDest    0\n",
       "newbalanceDest    0\n",
       "isFraud           0\n",
       "isFlaggedFraud    0\n",
       "dtype: int64"
      ]
     },
     "execution_count": 3,
     "metadata": {},
     "output_type": "execute_result"
    }
   ],
   "source": [
    "df.isnull().sum()"
   ]
  },
  {
   "cell_type": "code",
   "execution_count": 4,
   "metadata": {},
   "outputs": [
    {
     "name": "stdout",
     "output_type": "stream",
     "text": [
      "<class 'pandas.core.frame.DataFrame'>\n",
      "RangeIndex: 1000000 entries, 0 to 999999\n",
      "Data columns (total 11 columns):\n",
      " #   Column          Non-Null Count    Dtype  \n",
      "---  ------          --------------    -----  \n",
      " 0   step            1000000 non-null  int64  \n",
      " 1   type            1000000 non-null  object \n",
      " 2   amount          1000000 non-null  float64\n",
      " 3   nameOrig        1000000 non-null  object \n",
      " 4   oldbalanceOrg   1000000 non-null  float64\n",
      " 5   newbalanceOrig  1000000 non-null  float64\n",
      " 6   nameDest        1000000 non-null  object \n",
      " 7   oldbalanceDest  1000000 non-null  float64\n",
      " 8   newbalanceDest  1000000 non-null  float64\n",
      " 9   isFraud         1000000 non-null  int64  \n",
      " 10  isFlaggedFraud  1000000 non-null  int64  \n",
      "dtypes: float64(5), int64(3), object(3)\n",
      "memory usage: 83.9+ MB\n"
     ]
    }
   ],
   "source": [
    "df.info()"
   ]
  },
  {
   "cell_type": "code",
   "execution_count": 5,
   "metadata": {},
   "outputs": [
    {
     "data": {
      "text/plain": [
       "Index(['type', 'nameOrig', 'nameDest'], dtype='object')"
      ]
     },
     "execution_count": 5,
     "metadata": {},
     "output_type": "execute_result"
    }
   ],
   "source": [
    "cat_columns = df.select_dtypes(include='object').columns\n",
    "cat_columns"
   ]
  },
  {
   "cell_type": "code",
   "execution_count": 6,
   "metadata": {},
   "outputs": [
    {
     "data": {
      "text/html": [
       "<div>\n",
       "<style scoped>\n",
       "    .dataframe tbody tr th:only-of-type {\n",
       "        vertical-align: middle;\n",
       "    }\n",
       "\n",
       "    .dataframe tbody tr th {\n",
       "        vertical-align: top;\n",
       "    }\n",
       "\n",
       "    .dataframe thead th {\n",
       "        text-align: right;\n",
       "    }\n",
       "</style>\n",
       "<table border=\"1\" class=\"dataframe\">\n",
       "  <thead>\n",
       "    <tr style=\"text-align: right;\">\n",
       "      <th></th>\n",
       "      <th>step</th>\n",
       "      <th>amount</th>\n",
       "      <th>oldbalanceOrg</th>\n",
       "      <th>newbalanceOrig</th>\n",
       "      <th>oldbalanceDest</th>\n",
       "      <th>newbalanceDest</th>\n",
       "      <th>isFraud</th>\n",
       "      <th>isFlaggedFraud</th>\n",
       "    </tr>\n",
       "  </thead>\n",
       "  <tbody>\n",
       "    <tr>\n",
       "      <th>0</th>\n",
       "      <td>1</td>\n",
       "      <td>9839.64</td>\n",
       "      <td>170136.00</td>\n",
       "      <td>160296.36</td>\n",
       "      <td>0.0</td>\n",
       "      <td>0.0</td>\n",
       "      <td>0</td>\n",
       "      <td>0</td>\n",
       "    </tr>\n",
       "    <tr>\n",
       "      <th>1</th>\n",
       "      <td>1</td>\n",
       "      <td>1864.28</td>\n",
       "      <td>21249.00</td>\n",
       "      <td>19384.72</td>\n",
       "      <td>0.0</td>\n",
       "      <td>0.0</td>\n",
       "      <td>0</td>\n",
       "      <td>0</td>\n",
       "    </tr>\n",
       "    <tr>\n",
       "      <th>2</th>\n",
       "      <td>1</td>\n",
       "      <td>181.00</td>\n",
       "      <td>181.00</td>\n",
       "      <td>0.00</td>\n",
       "      <td>0.0</td>\n",
       "      <td>0.0</td>\n",
       "      <td>1</td>\n",
       "      <td>0</td>\n",
       "    </tr>\n",
       "    <tr>\n",
       "      <th>3</th>\n",
       "      <td>1</td>\n",
       "      <td>181.00</td>\n",
       "      <td>181.00</td>\n",
       "      <td>0.00</td>\n",
       "      <td>21182.0</td>\n",
       "      <td>0.0</td>\n",
       "      <td>1</td>\n",
       "      <td>0</td>\n",
       "    </tr>\n",
       "    <tr>\n",
       "      <th>4</th>\n",
       "      <td>1</td>\n",
       "      <td>11668.14</td>\n",
       "      <td>41554.00</td>\n",
       "      <td>29885.86</td>\n",
       "      <td>0.0</td>\n",
       "      <td>0.0</td>\n",
       "      <td>0</td>\n",
       "      <td>0</td>\n",
       "    </tr>\n",
       "    <tr>\n",
       "      <th>...</th>\n",
       "      <td>...</td>\n",
       "      <td>...</td>\n",
       "      <td>...</td>\n",
       "      <td>...</td>\n",
       "      <td>...</td>\n",
       "      <td>...</td>\n",
       "      <td>...</td>\n",
       "      <td>...</td>\n",
       "    </tr>\n",
       "    <tr>\n",
       "      <th>999995</th>\n",
       "      <td>45</td>\n",
       "      <td>10913.42</td>\n",
       "      <td>576108.80</td>\n",
       "      <td>565195.38</td>\n",
       "      <td>0.0</td>\n",
       "      <td>0.0</td>\n",
       "      <td>0</td>\n",
       "      <td>0</td>\n",
       "    </tr>\n",
       "    <tr>\n",
       "      <th>999996</th>\n",
       "      <td>45</td>\n",
       "      <td>2014.46</td>\n",
       "      <td>565195.38</td>\n",
       "      <td>563180.92</td>\n",
       "      <td>0.0</td>\n",
       "      <td>0.0</td>\n",
       "      <td>0</td>\n",
       "      <td>0</td>\n",
       "    </tr>\n",
       "    <tr>\n",
       "      <th>999997</th>\n",
       "      <td>45</td>\n",
       "      <td>18839.45</td>\n",
       "      <td>563180.92</td>\n",
       "      <td>544341.47</td>\n",
       "      <td>0.0</td>\n",
       "      <td>0.0</td>\n",
       "      <td>0</td>\n",
       "      <td>0</td>\n",
       "    </tr>\n",
       "    <tr>\n",
       "      <th>999998</th>\n",
       "      <td>45</td>\n",
       "      <td>17890.19</td>\n",
       "      <td>544341.47</td>\n",
       "      <td>526451.29</td>\n",
       "      <td>0.0</td>\n",
       "      <td>0.0</td>\n",
       "      <td>0</td>\n",
       "      <td>0</td>\n",
       "    </tr>\n",
       "    <tr>\n",
       "      <th>999999</th>\n",
       "      <td>45</td>\n",
       "      <td>25411.16</td>\n",
       "      <td>526451.29</td>\n",
       "      <td>501040.13</td>\n",
       "      <td>0.0</td>\n",
       "      <td>0.0</td>\n",
       "      <td>0</td>\n",
       "      <td>0</td>\n",
       "    </tr>\n",
       "  </tbody>\n",
       "</table>\n",
       "<p>1000000 rows × 8 columns</p>\n",
       "</div>"
      ],
      "text/plain": [
       "        step    amount  oldbalanceOrg  newbalanceOrig  oldbalanceDest  \\\n",
       "0          1   9839.64      170136.00       160296.36             0.0   \n",
       "1          1   1864.28       21249.00        19384.72             0.0   \n",
       "2          1    181.00         181.00            0.00             0.0   \n",
       "3          1    181.00         181.00            0.00         21182.0   \n",
       "4          1  11668.14       41554.00        29885.86             0.0   \n",
       "...      ...       ...            ...             ...             ...   \n",
       "999995    45  10913.42      576108.80       565195.38             0.0   \n",
       "999996    45   2014.46      565195.38       563180.92             0.0   \n",
       "999997    45  18839.45      563180.92       544341.47             0.0   \n",
       "999998    45  17890.19      544341.47       526451.29             0.0   \n",
       "999999    45  25411.16      526451.29       501040.13             0.0   \n",
       "\n",
       "        newbalanceDest  isFraud  isFlaggedFraud  \n",
       "0                  0.0        0               0  \n",
       "1                  0.0        0               0  \n",
       "2                  0.0        1               0  \n",
       "3                  0.0        1               0  \n",
       "4                  0.0        0               0  \n",
       "...                ...      ...             ...  \n",
       "999995             0.0        0               0  \n",
       "999996             0.0        0               0  \n",
       "999997             0.0        0               0  \n",
       "999998             0.0        0               0  \n",
       "999999             0.0        0               0  \n",
       "\n",
       "[1000000 rows x 8 columns]"
      ]
     },
     "execution_count": 6,
     "metadata": {},
     "output_type": "execute_result"
    }
   ],
   "source": [
    "num_columns = df.select_dtypes(include=np.number).columns\n",
    "df[num_columns]"
   ]
  },
  {
   "cell_type": "code",
   "execution_count": 7,
   "metadata": {},
   "outputs": [],
   "source": [
    "from sklearn.preprocessing import OneHotEncoder\n",
    "from sklearn.compose import ColumnTransformer\n",
    "from sklearn.preprocessing import StandardScaler\n",
    "from sklearn.model_selection import train_test_split\n",
    "from sklearn.metrics import confusion_matrix, classification_report\n",
    "from sklearn.pipeline import Pipeline\n",
    "from imblearn.over_sampling import SMOTE"
   ]
  },
  {
   "cell_type": "code",
   "execution_count": 8,
   "metadata": {},
   "outputs": [],
   "source": [
    "X = df.drop(columns=['isFraud', 'isFlaggedFraud'])\n",
    "y = df['isFraud']\n",
    "smote = SMOTE()"
   ]
  },
  {
   "cell_type": "code",
   "execution_count": 9,
   "metadata": {},
   "outputs": [],
   "source": [
    "preprocessor = ColumnTransformer(\n",
    "    transformers=[\n",
    "        ('cat', OneHotEncoder(drop='first'), ['type']),\n",
    "        ('num', StandardScaler(), num_columns[:-2])\n",
    "    ])\n",
    "\n",
    "p = Pipeline(steps=[('preprocessor', preprocessor)])\n"
   ]
  },
  {
   "cell_type": "code",
   "execution_count": 10,
   "metadata": {},
   "outputs": [
    {
     "data": {
      "text/plain": [
       "(1000000, 10)"
      ]
     },
     "execution_count": 10,
     "metadata": {},
     "output_type": "execute_result"
    }
   ],
   "source": [
    "Xp = p.fit_transform(X)\n",
    "Xp.shape"
   ]
  },
  {
   "cell_type": "code",
   "execution_count": 11,
   "metadata": {},
   "outputs": [
    {
     "data": {
      "text/plain": [
       "((1998930, 10), (1998930,))"
      ]
     },
     "execution_count": 11,
     "metadata": {},
     "output_type": "execute_result"
    }
   ],
   "source": [
    "Xp, y = smote.fit_resample(Xp, y)\n",
    "Xp.shape, y.shape"
   ]
  },
  {
   "attachments": {},
   "cell_type": "markdown",
   "metadata": {},
   "source": [
    "# create a NN"
   ]
  },
  {
   "cell_type": "code",
   "execution_count": 12,
   "metadata": {},
   "outputs": [],
   "source": [
    "model = Sequential()\n",
    "model.add(Dense(units=64, activation=relu, input_shape=(Xp.shape[1],)))\n",
    "model.add(Dropout(0.2))\n",
    "model.add(Dense(units=1, activation=sigmoid))"
   ]
  },
  {
   "cell_type": "code",
   "execution_count": 13,
   "metadata": {},
   "outputs": [
    {
     "name": "stdout",
     "output_type": "stream",
     "text": [
      "Model: \"sequential\"\n",
      "_________________________________________________________________\n",
      " Layer (type)                Output Shape              Param #   \n",
      "=================================================================\n",
      " dense (Dense)               (None, 64)                704       \n",
      "                                                                 \n",
      " dropout (Dropout)           (None, 64)                0         \n",
      "                                                                 \n",
      " dense_1 (Dense)             (None, 1)                 65        \n",
      "                                                                 \n",
      "=================================================================\n",
      "Total params: 769\n",
      "Trainable params: 769\n",
      "Non-trainable params: 0\n",
      "_________________________________________________________________\n"
     ]
    }
   ],
   "source": [
    "model.compile(\n",
    "    optimizer=SGD(),\n",
    "    loss=binary_crossentropy,\n",
    "    metrics=['accuracy', 'Precision', 'Recall']\n",
    ")\n",
    "\n",
    "model.summary()"
   ]
  },
  {
   "cell_type": "code",
   "execution_count": 14,
   "metadata": {},
   "outputs": [
    {
     "data": {
      "text/plain": [
       "((1599144, 10), (399786, 10), (1599144,), (399786,))"
      ]
     },
     "execution_count": 14,
     "metadata": {},
     "output_type": "execute_result"
    }
   ],
   "source": [
    "X_train, X_test, y_train, y_test = train_test_split(Xp, y, test_size=0.2, random_state=42)\n",
    "X_train.shape, X_test.shape, y_train.shape, y_test.shape"
   ]
  },
  {
   "cell_type": "code",
   "execution_count": 15,
   "metadata": {},
   "outputs": [
    {
     "name": "stdout",
     "output_type": "stream",
     "text": [
      "Epoch 1/10\n",
      "39979/39979 [==============================] - 42s 1ms/step - loss: 0.2716 - accuracy: 0.8722 - precision: 0.8628 - recall: 0.8851 - val_loss: 0.2059 - val_accuracy: 0.9086 - val_precision: 0.9078 - val_recall: 0.9096\n",
      "Epoch 2/10\n",
      "39979/39979 [==============================] - 38s 960us/step - loss: 0.1933 - accuracy: 0.9152 - precision: 0.9129 - recall: 0.9180 - val_loss: 0.1673 - val_accuracy: 0.9294 - val_precision: 0.9289 - val_recall: 0.9301\n",
      "Epoch 3/10\n",
      "39979/39979 [==============================] - 40s 1ms/step - loss: 0.1682 - accuracy: 0.9294 - precision: 0.9250 - recall: 0.9345 - val_loss: 0.1512 - val_accuracy: 0.9375 - val_precision: 0.9349 - val_recall: 0.9405\n",
      "Epoch 4/10\n",
      "39979/39979 [==============================] - 38s 953us/step - loss: 0.1553 - accuracy: 0.9363 - precision: 0.9301 - recall: 0.9436 - val_loss: 0.1440 - val_accuracy: 0.9464 - val_precision: 0.9462 - val_recall: 0.9466\n",
      "Epoch 5/10\n",
      "39979/39979 [==============================] - 39s 977us/step - loss: 0.1479 - accuracy: 0.9407 - precision: 0.9328 - recall: 0.9498 - val_loss: 0.1369 - val_accuracy: 0.9450 - val_precision: 0.9344 - val_recall: 0.9573\n",
      "Epoch 6/10\n",
      "39979/39979 [==============================] - 39s 965us/step - loss: 0.1428 - accuracy: 0.9434 - precision: 0.9345 - recall: 0.9535 - val_loss: 0.1337 - val_accuracy: 0.9479 - val_precision: 0.9305 - val_recall: 0.9682\n",
      "Epoch 7/10\n",
      "39979/39979 [==============================] - 36s 905us/step - loss: 0.1393 - accuracy: 0.9453 - precision: 0.9360 - recall: 0.9559 - val_loss: 0.1290 - val_accuracy: 0.9511 - val_precision: 0.9436 - val_recall: 0.9596\n",
      "Epoch 8/10\n",
      "39979/39979 [==============================] - 36s 910us/step - loss: 0.1365 - accuracy: 0.9464 - precision: 0.9370 - recall: 0.9572 - val_loss: 0.1274 - val_accuracy: 0.9544 - val_precision: 0.9496 - val_recall: 0.9599\n",
      "Epoch 9/10\n",
      "39979/39979 [==============================] - 39s 974us/step - loss: 0.1344 - accuracy: 0.9473 - precision: 0.9380 - recall: 0.9580 - val_loss: 0.1248 - val_accuracy: 0.9510 - val_precision: 0.9384 - val_recall: 0.9654\n",
      "Epoch 10/10\n",
      "39979/39979 [==============================] - 40s 997us/step - loss: 0.1330 - accuracy: 0.9481 - precision: 0.9388 - recall: 0.9585 - val_loss: 0.1251 - val_accuracy: 0.9495 - val_precision: 0.9365 - val_recall: 0.9645\n"
     ]
    },
    {
     "data": {
      "text/plain": [
       "<keras.callbacks.History at 0x20fe75b1be0>"
      ]
     },
     "execution_count": 15,
     "metadata": {},
     "output_type": "execute_result"
    }
   ],
   "source": [
    "model.fit(X_train, y_train,\n",
    "        epochs=10, batch_size=32, \n",
    "        validation_split=0.2,\n",
    "        verbose=1, shuffle=True)"
   ]
  },
  {
   "cell_type": "code",
   "execution_count": 16,
   "metadata": {},
   "outputs": [
    {
     "name": "stdout",
     "output_type": "stream",
     "text": [
      "12494/12494 [==============================] - 8s 645us/step - loss: 0.1241 - accuracy: 0.9502 - precision: 0.9371 - recall: 0.9654\n"
     ]
    },
    {
     "data": {
      "text/plain": [
       "[0.12410860508680344,\n",
       " 0.950243353843689,\n",
       " 0.9371035695075989,\n",
       " 0.9653517603874207]"
      ]
     },
     "execution_count": 16,
     "metadata": {},
     "output_type": "execute_result"
    }
   ],
   "source": [
    "model.evaluate(X_test, y_test)"
   ]
  },
  {
   "cell_type": "code",
   "execution_count": 17,
   "metadata": {},
   "outputs": [
    {
     "name": "stdout",
     "output_type": "stream",
     "text": [
      "12494/12494 [==============================] - 7s 560us/step\n"
     ]
    },
    {
     "data": {
      "text/plain": [
       "<AxesSubplot: >"
      ]
     },
     "execution_count": 17,
     "metadata": {},
     "output_type": "execute_result"
    },
    {
     "data": {
      "image/png": "[encoded data removed]",
      "text/plain": [
       "<Figure size 640x480 with 2 Axes>"
      ]
     },
     "metadata": {},
     "output_type": "display_data"
    }
   ],
   "source": [
    "import seaborn as sns\n",
    "# heatmap\n",
    "ypred = model.predict(X_test)\n",
    "ypred = ypred > 0.5\n",
    "cm = confusion_matrix(y_test, ypred)\n",
    "sns.heatmap(cm, annot=True, fmt='d')"
   ]
  },
  {
   "cell_type": "code",
   "execution_count": 18,
   "metadata": {},
   "outputs": [
    {
     "name": "stdout",
     "output_type": "stream",
     "text": [
      "              precision    recall  f1-score   support\n",
      "\n",
      "           0       0.96      0.94      0.95    199747\n",
      "           1       0.94      0.97      0.95    200039\n",
      "\n",
      "    accuracy                           0.95    399786\n",
      "   macro avg       0.95      0.95      0.95    399786\n",
      "weighted avg       0.95      0.95      0.95    399786\n",
      "\n"
     ]
    }
   ],
   "source": [
    "print(classification_report(y_test, ypred))"
   ]
  },
  {
   "attachments": {},
   "cell_type": "markdown",
   "metadata": {},
   "source": [
    "# save the modal"
   ]
  },
  {
   "cell_type": "code",
   "execution_count": 48,
   "metadata": {},
   "outputs": [
    {
     "data": {
      "text/plain": [
       "['ann_fraud_detection_preprocessor.jb']"
      ]
     },
     "execution_count": 48,
     "metadata": {},
     "output_type": "execute_result"
    }
   ],
   "source": [
    "from joblib import dump\n",
    "model.save('ann_fraud_detection.h5')\n",
    "dump(p, 'ann_fraud_detection_preprocessor.jb')"
   ]
  },
  {
   "attachments": {},
   "cell_type": "markdown",
   "metadata": {},
   "source": [
    "# load the modal"
   ]
  },
  {
   "cell_type": "code",
   "execution_count": 49,
   "metadata": {},
   "outputs": [],
   "source": [
    "from joblib import load\n",
    "def load_model():\n",
    "    model = tf.keras.models.load_model('ann_fraud_detection.h5')\n",
    "    return model\n",
    "\n",
    "def load_preprocessor():\n",
    "    p = load('ann_fraud_detection_preprocessor.jb')\n",
    "    return p"
   ]
  },
  {
   "cell_type": "code",
   "execution_count": 51,
   "metadata": {},
   "outputs": [],
   "source": [
    "existing_model = load_model()\n",
    "p = load_preprocessor()\n",
    "# existing_model.summary()"
   ]
  },
  {
   "cell_type": "code",
   "execution_count": 52,
   "metadata": {},
   "outputs": [],
   "source": [
    "def predict_fraud(model, data):\n",
    "    data = p.transform(data)\n",
    "    prediction = model.predict(data)\n",
    "    return prediction"
   ]
  },
  {
   "cell_type": "code",
   "execution_count": 54,
   "metadata": {},
   "outputs": [
    {
     "name": "stdout",
     "output_type": "stream",
     "text": [
      "1/1 [==============================] - 0s 17ms/step\n",
      "True\n"
     ]
    }
   ],
   "source": [
    "data = pd.DataFrame({\n",
    "    'step': [1],\n",
    "    'type': ['CASH_OUT'],\n",
    "    'amount': [1000],\n",
    "    'name_orig': ['C12345'],\n",
    "    'oldbalanceOrg': [1000],\n",
    "    'newbalanceOrig': [0],\n",
    "    'name_dest': ['M12345'],\n",
    "    'oldbalanceDest': [0],\n",
    "    'newbalanceDest': [0],\n",
    "})\n",
    "\n",
    "out = predict_fraud(existing_model, data)\n",
    "print(out[0][0] > 0.5)\n",
    "    "
   ]
  },
  {
   "cell_type": "code",
   "execution_count": null,
   "metadata": {},
   "outputs": [],
   "source": []
  }
 ],
 "metadata": {
  "kernelspec": {
   "display_name": "tf23",
   "language": "python",
   "name": "python3"
  },
  "language_info": {
   "codemirror_mode": {
    "name": "ipython",
    "version": 3
   },
   "file_extension": ".py",
   "mimetype": "text/x-python",
   "name": "python",
   "nbconvert_exporter": "python",
   "pygments_lexer": "ipython3",
   "version": "3.9.15"
  },
  "orig_nbformat": 4
 },
 "nbformat": 4,
 "nbformat_minor": 2
}
